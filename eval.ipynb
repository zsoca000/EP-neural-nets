{
 "cells": [
  {
   "cell_type": "code",
   "execution_count": null,
   "id": "31743fab",
   "metadata": {},
   "outputs": [],
   "source": [
    "from matplotlib.gridspec import GridSpec\n",
    "import matplotlib.pyplot as plt\n",
    "import numpy as np\n",
    "from models import load_model, MLP_dir\n",
    "import os.path as osp"
   ]
  },
  {
   "cell_type": "code",
   "execution_count": 4,
   "id": "1c9f3c4d",
   "metadata": {},
   "outputs": [],
   "source": [
    "name =  'linear1'\n",
    "epoch = 100\n",
    "\n",
    "model = load_model(path=osp.join('models',name,f'{epoch}.pth'))"
   ]
  },
  {
   "cell_type": "code",
   "execution_count": null,
   "id": "6652a6a1",
   "metadata": {},
   "outputs": [],
   "source": [
    "N = 10000\n",
    "\n",
    "mu = 0  \n",
    "sigma = 1\n",
    "\n",
    "t = np.linspace(mu - 8*sigma, mu + 8*sigma, N) \n",
    "eps = (1 / (sigma * np.sqrt(2 * np.pi))) * np.exp(-0.5 * ((t - mu) / sigma)**2)\n",
    "t -= mu - 8*sigma"
   ]
  },
  {
   "cell_type": "code",
   "execution_count": null,
   "id": "a72ef851",
   "metadata": {},
   "outputs": [],
   "source": [
    "fig = plt.figure(figsize=(8, 4),dpi=150)\n",
    "gs = GridSpec(2, 2, height_ratios=[1, 1])\n",
    "fig.suptitle(r'Linear-isotropic plastic: \\dot{\\sigma} = E\\left(\\dot{\\varepsilon} - \\dot{\\varepsilon}^{e}\\right)', fontsize=18)\n",
    "ax1 = fig.add_subplot(gs[:, 0])\n",
    "ax2 = fig.add_subplot(gs[0, 1])\n",
    "ax3 = fig.add_subplot(gs[1, 1])\n",
    "\n",
    "\n",
    "\n",
    "\n",
    "\n",
    "plot_iter =  [\n",
    "    ((0/4,1/4),'green','A'),\n",
    "    ((1/4,2/4),'red','A'),\n",
    "    ((2/4,3/4),'blue','A'),\n",
    "    ((3/4,4/4),'orange','A'),\n",
    "]\n",
    "\n",
    "for interval, color, label in plot_iter:\n",
    "    \n",
    "    start = int(interval[0]*N)\n",
    "    end   = int(interval[1]*N)\n",
    "\n",
    "    ax1.plot(eps[start:end],sig[start:end],c=color,lw=2)\n",
    "    ax2.plot(t[start:end],eps[start:end],c=color,lw=2)\n",
    "    ax3.plot(t[start:end],sig[start:end],c=color,lw=2)\n",
    "\n",
    "for ax_i in [ax1,ax2,ax3]:\n",
    "    ax_i.set_xticks([])  # Remove x-axis numbers\n",
    "    ax_i.set_yticks([])\n",
    "ax1.set_xlabel(r'$\\varepsilon$', fontsize=18)\n",
    "ax2.set_xlabel(r'$t$', fontsize=18)\n",
    "ax3.set_xlabel(r'$t$', fontsize=18)\n",
    "ax1.set_ylabel(r'$\\sigma$', fontsize=18)\n",
    "ax2.set_ylabel(r'$\\varepsilon$', fontsize=18)\n",
    "ax3.set_ylabel(r'$\\sigma$', fontsize=18)\n",
    "plt.tight_layout()\n",
    "plt.show()"
   ]
  }
 ],
 "metadata": {
  "kernelspec": {
   "display_name": "Python 3",
   "language": "python",
   "name": "python3"
  },
  "language_info": {
   "codemirror_mode": {
    "name": "ipython",
    "version": 3
   },
   "file_extension": ".py",
   "mimetype": "text/x-python",
   "name": "python",
   "nbconvert_exporter": "python",
   "pygments_lexer": "ipython3",
   "version": "3.12.3"
  }
 },
 "nbformat": 4,
 "nbformat_minor": 5
}
